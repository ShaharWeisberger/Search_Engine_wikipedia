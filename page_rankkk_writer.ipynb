{
  "nbformat": 4,
  "nbformat_minor": 0,
  "metadata": {
    "colab": {
      "name": "page_rankkk_writer.ipynb",
      "provenance": []
    },
    "kernelspec": {
      "name": "python3",
      "display_name": "Python 3"
    },
    "language_info": {
      "name": "python"
    }
  },
  "cells": [
    {
      "cell_type": "code",
      "execution_count": null,
      "metadata": {
        "colab": {
          "base_uri": "https://localhost:8080/"
        },
        "id": "EUaR_Yr57RqZ",
        "outputId": "44c6f2be-5b48-4a59-ceed-cfc6fcef62f1"
      },
      "outputs": [
        {
          "output_type": "stream",
          "name": "stdout",
          "text": [
            "Drive already mounted at /content/drive; to attempt to forcibly remount, call drive.mount(\"/content/drive\", force_remount=True).\n"
          ]
        }
      ],
      "source": [
        "import sys\n",
        "from collections import Counter, OrderedDict\n",
        "import itertools\n",
        "from itertools import islice, count, groupby\n",
        "import pandas as pd\n",
        "import os\n",
        "import re\n",
        "from operator import itemgetter\n",
        "import nltk\n",
        "from nltk.stem.porter import *\n",
        "from nltk.corpus import stopwords\n",
        "from time import time\n",
        "from timeit import timeit\n",
        "from pathlib import Path\n",
        "import pickle\n",
        "import pandas as pd\n",
        "import numpy as np\n",
        "from google.cloud import storage\n",
        "from google.colab import drive\n",
        "drive.mount('/content/drive')\n",
        "import hashing as hs\n",
        "from _csv import reader\n",
        "import gzip"
      ]
    },
    {
      "cell_type": "code",
      "source": [
        "# uncomment the code below and execute to reload the module when you make \n",
        "# changes to search_frontend.py (after you upload again).\n",
        "import importlib\n",
        "import hashing as hs\n",
        "importlib.reload(hs)"
      ],
      "metadata": {
        "colab": {
          "base_uri": "https://localhost:8080/"
        },
        "id": "MADDs88M7VBE",
        "outputId": "30e1925a-de6e-4e14-d907-91b16f8b8e42"
      },
      "execution_count": null,
      "outputs": [
        {
          "output_type": "execute_result",
          "data": {
            "text/plain": [
              "<module 'hashing' from '/content/hashing.py'>"
            ]
          },
          "metadata": {},
          "execution_count": 2
        }
      ]
    },
    {
      "cell_type": "code",
      "source": [
        "id_rank_dict ={}\n",
        "name = 'drive/MyDrive/Test_data/pr_part_ass3.csv.gz'\n",
        "# df = pd.read_csv(name, compression='gzip', header=0, sep=' ', quotechar='\"',error_bad_lines=False)\n",
        "# print(df)\n",
        "\n",
        "with gzip.open(name, 'rt') as read_obj:\n",
        "    # pass the file object to reader() to get the reader object\n",
        "    csv_reader = reader(read_obj)\n",
        "    # Iterate over each row in the csv using reader object\n",
        "    for row in csv_reader:\n",
        "        # row variable is a list that represents a row in csv\n",
        "        #print(row)\n",
        "        # dic_helper[int(row[0])] = float(row[1])\n",
        "        id_rank_dict[int(row[0])] = float(row[1])\n",
        "\n",
        "with open('id_rank_dict.pickle', 'wb') as f:\n",
        "  pickle.dump(id_rank_dict, f)"
      ],
      "metadata": {
        "id": "hDESh-Jj7koI"
      },
      "execution_count": null,
      "outputs": []
    }
  ]
}