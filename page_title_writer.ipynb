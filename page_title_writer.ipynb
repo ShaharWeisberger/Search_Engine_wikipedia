{
  "nbformat": 4,
  "nbformat_minor": 0,
  "metadata": {
    "colab": {
      "name": "page_title_writer.ipynb",
      "provenance": [],
      "include_colab_link": true
    },
    "kernelspec": {
      "name": "python3",
      "display_name": "Python 3"
    },
    "language_info": {
      "name": "python"
    }
  },
  "cells": [
    {
      "cell_type": "markdown",
      "metadata": {
        "id": "view-in-github",
        "colab_type": "text"
      },
      "source": [
        "<a href=\"https://colab.research.google.com/github/ShaharWeisberger/Search_Engine_wikipedia/blob/master/page_title_writer.ipynb\" target=\"_parent\"><img src=\"https://colab.research.google.com/assets/colab-badge.svg\" alt=\"Open In Colab\"/></a>"
      ]
    },
    {
      "cell_type": "code",
      "execution_count": null,
      "metadata": {
        "colab": {
          "base_uri": "https://localhost:8080/"
        },
        "id": "87solfEiIJnL",
        "outputId": "73594a42-111b-4af2-f02f-275efdf7941d"
      },
      "outputs": [
        {
          "output_type": "stream",
          "name": "stdout",
          "text": [
            "Drive already mounted at /content/drive; to attempt to forcibly remount, call drive.mount(\"/content/drive\", force_remount=True).\n"
          ]
        }
      ],
      "source": [
        "import sys\n",
        "from collections import Counter, OrderedDict\n",
        "import itertools\n",
        "from itertools import islice, count, groupby\n",
        "import pandas as pd\n",
        "import os\n",
        "import re\n",
        "from operator import itemgetter\n",
        "import nltk\n",
        "from nltk.stem.porter import *\n",
        "from nltk.corpus import stopwords\n",
        "from time import time\n",
        "from timeit import timeit\n",
        "from pathlib import Path\n",
        "import pickle\n",
        "import pandas as pd\n",
        "import numpy as np\n",
        "from google.cloud import storage\n",
        "from google.colab import drive\n",
        "drive.mount('/content/drive')\n",
        "import hashing as hs\n",
        "from _csv import reader\n",
        "import gzip\n",
        "import json"
      ]
    },
    {
      "cell_type": "code",
      "source": [
        "# uncomment the code below and execute to reload the module when you make \n",
        "# changes to search_frontend.py (after you upload again).\n",
        "import importlib\n",
        "import hashing as hs\n",
        "importlib.reload(hs)"
      ],
      "metadata": {
        "colab": {
          "base_uri": "https://localhost:8080/"
        },
        "id": "sP2prhtHIWqV",
        "outputId": "7d936d58-8347-4df3-8fd8-0d60fa29a99b"
      },
      "execution_count": null,
      "outputs": [
        {
          "output_type": "execute_result",
          "data": {
            "text/plain": [
              "<module 'hashing' from '/content/hashing.py'>"
            ]
          },
          "metadata": {},
          "execution_count": 21
        }
      ]
    },
    {
      "cell_type": "code",
      "source": [
        "with open('drive/MyDrive/Test_data/doc_info_index/id_title_len_dict.json') as f:\n",
        "    j_reader = json.load(f)\n",
        "    print(type(j_reader))\n",
        "    print(len(j_reader))\n",
        "    x = []\n",
        "    dic = {}\n",
        "    mega_dic = {}\n",
        "    # print(j_reader.items())\n",
        "    for i , v in j_reader.items():\n",
        "      # print(i)\n",
        "      # print(v)\n",
        "      x.append((int(i),v))\n",
        "      dic[int(i)] = v\n",
        "      mega_dic[int(i)] = int(v[1]) \n",
        "      # break\n",
        "    maxi = max(x)\n",
        "    print(maxi)\n",
        "    print(dic[34258])\n",
        "    print(mega_dic[34258])\n",
        "\n",
        "\n",
        "\n",
        "with open('id_title_dict.pickle', 'wb') as f:\n",
        "  pickle.dump(dic, f)\n"
      ],
      "metadata": {
        "colab": {
          "base_uri": "https://localhost:8080/"
        },
        "id": "O-msZqSAIXFM",
        "outputId": "eef1703f-537f-415e-dc3d-6a5d0cd14cca"
      },
      "execution_count": null,
      "outputs": [
        {
          "output_type": "stream",
          "name": "stdout",
          "text": [
            "<class 'dict'>\n",
            "6348910\n",
            "(68380237, ['Ichneutica prismatica', 203])\n",
            "['Yoga', 5598]\n",
            "5598\n"
          ]
        }
      ]
    }
  ]
}