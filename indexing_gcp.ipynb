{
  "cells": [
    {
      "cell_type": "code",
      "execution_count": null,
      "id": "1987929f",
      "metadata": {
        "id": "1987929f",
        "outputId": "2c23f7f0-84e5-4f0d-9f63-2fcdebea5870"
      },
      "outputs": [
        {
          "name": "stdout",
          "output_type": "stream",
          "text": [
            "NAME          PLATFORM  WORKER_COUNT  PREEMPTIBLE_WORKER_COUNT  STATUS   ZONE           SCHEDULED_DELETE\r\n",
            "cluster-5e09  GCE       4                                       RUNNING  us-central1-a\r\n"
          ]
        }
      ],
      "source": [
        "# if the following command generates an error, you probably didn't enable \n",
        "# the cluster security option \"Allow API access to all Google Cloud services\"\n",
        "# under Manage Security → Project Access when setting up the cluster\n",
        "!gcloud dataproc clusters list --region us-central1"
      ]
    },
    {
      "cell_type": "code",
      "execution_count": null,
      "id": "a13611f7",
      "metadata": {
        "id": "a13611f7",
        "outputId": "4bab7e9b-70fc-4dfc-9b7a-3ae870c08721"
      },
      "outputs": [
        {
          "name": "stdout",
          "output_type": "stream",
          "text": [
            "\u001b[33mWARNING: Running pip as the 'root' user can result in broken permissions and conflicting behaviour with the system package manager. It is recommended to use a virtual environment instead: https://pip.pypa.io/warnings/venv\u001b[0m\n",
            "\u001b[33mWARNING: Running pip as the 'root' user can result in broken permissions and conflicting behaviour with the system package manager. It is recommended to use a virtual environment instead: https://pip.pypa.io/warnings/venv\u001b[0m\n"
          ]
        }
      ],
      "source": [
        "!pip install -q google-cloud-storage==1.43.0\n",
        "!pip install -q graphframes"
      ]
    },
    {
      "cell_type": "code",
      "execution_count": null,
      "id": "6bc32095",
      "metadata": {
        "id": "6bc32095",
        "outputId": "9240b92c-8857-45b5-883c-7dd381adbdc1"
      },
      "outputs": [
        {
          "name": "stderr",
          "output_type": "stream",
          "text": [
            "[nltk_data] Downloading package stopwords to /root/nltk_data...\n",
            "[nltk_data]   Package stopwords is already up-to-date!\n"
          ]
        },
        {
          "data": {
            "text/plain": [
              "True"
            ]
          },
          "execution_count": 3,
          "metadata": {},
          "output_type": "execute_result"
        }
      ],
      "source": [
        "import pyspark\n",
        "import sys\n",
        "from collections import Counter, OrderedDict, defaultdict\n",
        "import itertools\n",
        "from itertools import islice, count, groupby\n",
        "import pandas as pd\n",
        "import os\n",
        "import re\n",
        "from operator import itemgetter\n",
        "import nltk\n",
        "from nltk.stem.porter import *\n",
        "from nltk.corpus import stopwords\n",
        "from time import time\n",
        "from pathlib import Path\n",
        "import pickle\n",
        "import pandas as pd\n",
        "from google.cloud import storage\n",
        "\n",
        "import hashlib\n",
        "def _hash(s):\n",
        "    return hashlib.blake2b(bytes(s, encoding='utf8'), digest_size=5).hexdigest()\n",
        "\n",
        "nltk.download('stopwords')"
      ]
    },
    {
      "cell_type": "code",
      "execution_count": null,
      "id": "e1f04443",
      "metadata": {
        "id": "e1f04443",
        "outputId": "8e496778-5c0b-4d66-a94e-d45198837dab"
      },
      "outputs": [
        {
          "name": "stdout",
          "output_type": "stream",
          "text": [
            "-rw-r--r-- 1 root root 247882 Jan 10 14:28 /usr/lib/spark/jars/graphframes-0.8.2-spark3.1-s_2.12.jar\r\n"
          ]
        }
      ],
      "source": [
        "!ls -l /usr/lib/spark/jars/graph*"
      ]
    },
    {
      "cell_type": "code",
      "execution_count": null,
      "id": "20c157b6",
      "metadata": {
        "id": "20c157b6"
      },
      "outputs": [],
      "source": [
        "from pyspark.sql import *\n",
        "from pyspark.sql.functions import *\n",
        "from pyspark import SparkContext, SparkConf, SparkFiles\n",
        "from pyspark.sql import SQLContext\n",
        "from graphframes import *"
      ]
    },
    {
      "cell_type": "code",
      "execution_count": null,
      "id": "9f956ad2",
      "metadata": {
        "id": "9f956ad2",
        "outputId": "c7c8ddb7-f182-40c0-812a-0a88d28004cd"
      },
      "outputs": [
        {
          "data": {
            "text/html": [
              "\n",
              "            <div>\n",
              "                <p><b>SparkSession - hive</b></p>\n",
              "                \n",
              "        <div>\n",
              "            <p><b>SparkContext</b></p>\n",
              "\n",
              "            <p><a href=\"http://cluster-5e09-m.c.ass3-334214.internal:43979\">Spark UI</a></p>\n",
              "\n",
              "            <dl>\n",
              "              <dt>Version</dt>\n",
              "                <dd><code>v3.1.2</code></dd>\n",
              "              <dt>Master</dt>\n",
              "                <dd><code>yarn</code></dd>\n",
              "              <dt>AppName</dt>\n",
              "                <dd><code>PySparkShell</code></dd>\n",
              "            </dl>\n",
              "        </div>\n",
              "        \n",
              "            </div>\n",
              "        "
            ],
            "text/plain": [
              "<pyspark.sql.session.SparkSession at 0x7fe3b51b94f0>"
            ]
          },
          "execution_count": 6,
          "metadata": {},
          "output_type": "execute_result"
        }
      ],
      "source": [
        "spark"
      ]
    },
    {
      "cell_type": "code",
      "execution_count": null,
      "id": "8e3f7e95",
      "metadata": {
        "id": "8e3f7e95"
      },
      "outputs": [],
      "source": [
        "# Put your bucket name below and make sure you can access it without an error\n",
        "bucket_name = 'hodisan_ha_melech' \n",
        "client = storage.Client()\n",
        "blobs = client.list_blobs(bucket_name)\n",
        "for b in blobs:\n",
        "    print(b.name)"
      ]
    },
    {
      "cell_type": "code",
      "execution_count": null,
      "id": "1db75763",
      "metadata": {
        "id": "1db75763",
        "outputId": "0a3fe647-23eb-408d-9b0f-c2ab18df6769"
      },
      "outputs": [
        {
          "name": "stdout",
          "output_type": "stream",
          "text": [
            "inverted_index_gcp.py\r\n"
          ]
        }
      ],
      "source": [
        "# if nothing prints here you forgot to upload the file inverted_index_gcp.py to the home dir\n",
        "%cd -q /home/dataproc\n",
        "!ls inverted_index_gcp.py"
      ]
    },
    {
      "cell_type": "code",
      "execution_count": null,
      "id": "90253d9b",
      "metadata": {
        "id": "90253d9b"
      },
      "outputs": [],
      "source": [
        "# adding our python module to the cluster\n",
        "sc.addFile(\"/home/dataproc/inverted_index_gcp.py\")\n",
        "sys.path.insert(0,SparkFiles.getRootDirectory())"
      ]
    },
    {
      "cell_type": "code",
      "execution_count": null,
      "id": "122a099e",
      "metadata": {
        "id": "122a099e"
      },
      "outputs": [],
      "source": [
        "from inverted_index_gcp import InvertedIndex"
      ]
    },
    {
      "cell_type": "code",
      "execution_count": null,
      "id": "7f14be1a",
      "metadata": {
        "id": "7f14be1a"
      },
      "outputs": [],
      "source": [
        "english_stopwords = frozenset(stopwords.words('english'))\n",
        "corpus_stopwords = [\"category\", \"references\", \"also\", \"external\", \"links\", \n",
        "                    \"may\", \"first\", \"see\", \"history\", \"people\", \"one\", \"two\", \n",
        "                    \"part\", \"thumb\", \"including\", \"second\", \"following\", \n",
        "                    \"many\", \"however\", \"would\", \"became\"]\n",
        "\n",
        "all_stopwords = english_stopwords.union(corpus_stopwords)\n",
        "RE_WORD = re.compile(r\"\"\"[\\#\\@\\w](['\\-]?\\w){2,24}\"\"\", re.UNICODE)\n",
        "\n",
        "NUM_BUCKETS = 124\n",
        "def token2bucket_id(token):\n",
        "  return int(_hash(token),16) % NUM_BUCKETS\n",
        "\n",
        "# PLACE YOUR CODE HERE\n",
        "def word_count(text, id):\n",
        "  ''' Count the frequency of each word in `text` (tf) that is not included in \n",
        "  `all_stopwords` and return entries that will go into our posting lists. \n",
        "  Parameters:\n",
        "  -----------\n",
        "    text: str\n",
        "      Text of one document\n",
        "    id: int\n",
        "      Document id\n",
        "  Returns:\n",
        "  --------\n",
        "    List of tuples\n",
        "      A list of (token, (doc_id, tf)) pairs \n",
        "      for example: [(\"Anarchism\", (12, 5)), ...]\n",
        "  '''\n",
        "  tokens = [token.group() for token in RE_WORD.finditer(text.lower())]\n",
        "  \n",
        "  #lines = spark.read.parquet(text)\n",
        "  word_counter = Counter(tokens)\n",
        "  our_list = []\n",
        "  for i in tokens:\n",
        "    if i not in all_stopwords:\n",
        "        #if i not in our_list: ### kinda usless...but ok for now\n",
        "          #occurrences = tokens.count(i)\n",
        "          if (i,(id,word_counter.get(i))) not in our_list:\n",
        "            #counter = Counter(tokens)\n",
        "            #print(counter.get(i))\n",
        "            our_list.append((i,(id,word_counter.get(i))))\n",
        "  #print(our_list)\n",
        "  return our_list\n",
        "  # YOUR CODE HERE\n",
        "  #raise NotImplementedError()\n",
        "\n",
        "def reduce_word_counts(unsorted_pl):\n",
        "  ''' Returns a sorted posting list by wiki_id.\n",
        "  Parameters:\n",
        "  -----------\n",
        "    unsorted_pl: list of tuples\n",
        "      A list of (wiki_id, tf) tuples \n",
        "  Returns:\n",
        "  --------\n",
        "    list of tuples\n",
        "      A sorted posting list.\n",
        "  '''\n",
        "  # YOUR CODE HERE\n",
        "  #print(unsorted_pl)\n",
        "  sort = sorted(unsorted_pl, key=lambda x:x[0] , reverse=False)\n",
        "\n",
        "  #end = len(unsorted_pl)  \n",
        "  #for o in range(0, end):           \n",
        "  #    for p in range(0, end-o-1):  \n",
        "  #        if (unsorted_pl[p][-1] > unsorted_pl[p + 1][-1]):  \n",
        "  #            new_temp = unsorted_pl[p]  \n",
        "  #            unsorted_pl[p]= unsorted_pl[p + 1]\n",
        "  #            unsorted_pl[p + 1]= new_temp  \n",
        "  #return unsorted_pl \n",
        "  return sort\n",
        "\n",
        "  #raise NotImplementedError()\n",
        "    \n",
        "def calculate_df(postings):\n",
        "  ''' Takes a posting list RDD and calculate the df for each token.\n",
        "  Parameters:\n",
        "  -----------\n",
        "    postings: RDD\n",
        "      An RDD where each element is a (token, posting_list) pair.\n",
        "  Returns:\n",
        "  --------\n",
        "    RDD\n",
        "      An RDD where each element is a (token, df) pair.\n",
        "  '''\n",
        "  # YOUR CODE HERE\n",
        "\n",
        "  dic = postings.mapValues(lambda count: len(count))\n",
        "  return dic\n",
        "  #raise NotImplementedError()\n",
        "    \n",
        "def partition_postings_and_write(postings):\n",
        "  ''' A function that partitions the posting lists into buckets, writes out \n",
        "  all posting lists in a bucket to disk, and returns the posting locations for \n",
        "  each bucket. Partitioning should be done through the use of `token2bucket` \n",
        "  above. Writing to disk should use the function  `write_a_posting_list`, a \n",
        "  static method implemented in inverted_index_colab.py under the InvertedIndex \n",
        "  class. \n",
        "  Parameters:\n",
        "  -----------\n",
        "    postings: RDD\n",
        "      An RDD where each item is a (w, posting_list) pair.\n",
        "  Returns:\n",
        "  --------\n",
        "    RDD\n",
        "      An RDD where each item is a posting locations dictionary for a bucket. The\n",
        "      posting locations maintain a list for each word of file locations and \n",
        "      offsets its posting list was written to. See `write_a_posting_list` for \n",
        "      more details.\n",
        "  '''\n",
        "\n",
        "  dic = postings.map(lambda x: (token2bucket_id(x[0]),x))\n",
        "  dic = dic.groupByKey()\n",
        "  dic = dic.map(lambda x: InvertedIndex.write_a_posting_list(x,bucket_name))\n",
        "  #van = dic.collect()\n",
        "\n",
        "  #nam = postings.flatMap(lambda x :(token2bucket_id(x[0]),{x}))\n",
        "  #nam = nam.map(InvertedIndex.write_a_posting_list)\n",
        "  #ven = nam.collect()\n",
        "  #print(ven[1])\n",
        "  #print(ven[0])\n",
        "\n",
        "  #print(van[0])\n",
        "  return dic\n",
        "\n",
        "  # YOUR CODE HERE\n",
        "  #raise NotImplementedError()"
      ]
    },
    {
      "cell_type": "code",
      "execution_count": null,
      "id": "fb170e86",
      "metadata": {
        "id": "fb170e86",
        "outputId": "aeeee19f-bff9-47d3-c470-37c9e1616784"
      },
      "outputs": [
        {
          "name": "stderr",
          "output_type": "stream",
          "text": [
            "                                                                                \r"
          ]
        }
      ],
      "source": [
        "full_path = \"gs://wikidata_preprocessed/*\"\n",
        "parquetFile = spark.read.parquet(full_path)"
      ]
    },
    {
      "cell_type": "code",
      "execution_count": null,
      "id": "a48077f9",
      "metadata": {
        "id": "a48077f9"
      },
      "outputs": [],
      "source": [
        "doc_pairs = parquetFile.select(\"title\", \"id\").rdd"
      ]
    },
    {
      "cell_type": "code",
      "execution_count": null,
      "id": "27e0fab1",
      "metadata": {
        "id": "27e0fab1",
        "outputId": "21dab483-b04f-4015-ac33-c46906f50235"
      },
      "outputs": [
        {
          "name": "stderr",
          "output_type": "stream",
          "text": [
            "[Stage 6:===============================================>      (109 + 15) / 124]\r"
          ]
        },
        {
          "name": "stdout",
          "output_type": "stream",
          "text": [
            "42.02500033378601\n"
          ]
        },
        {
          "name": "stderr",
          "output_type": "stream",
          "text": [
            "                                                                                \r"
          ]
        }
      ],
      "source": [
        "# time the index creation time\n",
        "t_start = time()\n",
        "# word counts map\n",
        "folder = \"title\"\n",
        "word_counts = doc_pairs.flatMap(lambda x: word_count(x[0], x[1]))\n",
        "postings = word_counts.groupByKey().mapValues(reduce_word_counts)\n",
        "# filtering postings and calculate df\n",
        "postings_filtered = postings.filter(lambda x: len(x[1])>50)\n",
        "w2df = calculate_df(postings_filtered)\n",
        "w2df_dict = w2df.collectAsMap()\n",
        "# partition posting lists and write out\n",
        "_ = partition_postings_and_write(postings_filtered, folder).collect()\n",
        "index_const_time = time() - t_start\n",
        "print(index_const_time)"
      ]
    },
    {
      "cell_type": "code",
      "execution_count": null,
      "id": "4437e923",
      "metadata": {
        "id": "4437e923"
      },
      "outputs": [],
      "source": [
        "# collect all posting lists locations into one super-set\n",
        "super_posting_locs = defaultdict(list)\n",
        "for blob in client.list_blobs(bucket_name, prefix='title'):\n",
        "  if not blob.name.endswith(\"pickle\"):\n",
        "    continue\n",
        "  with blob.open(\"rb\") as f:\n",
        "    posting_locs = pickle.load(f)\n",
        "    for k, v in posting_locs.items():\n",
        "      super_posting_locs[k].extend(v)"
      ]
    },
    {
      "cell_type": "code",
      "execution_count": null,
      "id": "6c68949d",
      "metadata": {
        "id": "6c68949d",
        "outputId": "4da50345-ca7c-408f-f235-4de280938b37"
      },
      "outputs": [
        {
          "name": "stdout",
          "output_type": "stream",
          "text": [
            "Copying file://title_index.pkl [Content-Type=application/octet-stream]...\n",
            "/ [1 files][953.5 KiB/953.5 KiB]                                                \n",
            "Operation completed over 1 objects/953.5 KiB.                                    \n"
          ]
        }
      ],
      "source": [
        "# Create inverted index instance\n",
        "inverted = InvertedIndex()\n",
        "# Adding the posting locations dictionary to the inverted index\n",
        "inverted.posting_locs = super_posting_locs\n",
        "# Add the token - df dictionary to the inverted index\n",
        "inverted.df = w2df_dict\n",
        "# write the global stats out\n",
        "inverted.write_index('.', 'title_index')\n",
        "# upload to gs\n",
        "index_src = \"title_index.pkl\"\n",
        "index_dst = f'gs://{bucket_name}/{folder}/{index_src}'\n",
        "!gsutil cp $index_src $index_dst"
      ]
    },
    {
      "cell_type": "code",
      "execution_count": null,
      "id": "b46eed37",
      "metadata": {
        "id": "b46eed37",
        "outputId": "64a6c443-4739-467d-f94d-734ea1602942"
      },
      "outputs": [
        {
          "name": "stdout",
          "output_type": "stream",
          "text": [
            "[('bounty', [('0_000.bin', 0)]), ('trentino', [('0_000.bin', 732)]), ('tully', [('0_000.bin', 1356)]), ('reformation', [('0_000.bin', 2160)]), ('herschel', [('0_000.bin', 2640)]), ('papilio', [('0_000.bin', 3300)]), ('amore', [('0_000.bin', 4704)]), ('cecilia', [('0_000.bin', 5154)]), ('profile', [('0_000.bin', 7848)]), ('susan', [('0_000.bin', 8772)]), ('168', [('0_000.bin', 20670)]), ('komnenos', [('0_000.bin', 21078)]), ('tehsil', [('0_000.bin', 21402)]), ('irani', [('0_000.bin', 23526)]), ('retirement', [('0_000.bin', 23868)]), ('georgy', [('0_000.bin', 24618)]), ('democrats', [('0_000.bin', 25752)]), ('election', [('0_000.bin', 27780)]), ('tornado', [('0_000.bin', 209778)]), ('billy', [('0_000.bin', 213288)])]\n"
          ]
        }
      ],
      "source": [
        "print(list(super_posting_locs.items())[:20])"
      ]
    },
    {
      "cell_type": "code",
      "execution_count": null,
      "id": "3441bf11",
      "metadata": {
        "id": "3441bf11"
      },
      "outputs": [],
      "source": [
        "index2 = inverted.read_index('.' , 'title_index')"
      ]
    },
    {
      "cell_type": "code",
      "execution_count": null,
      "id": "573276cd",
      "metadata": {
        "id": "573276cd",
        "outputId": "476c56b8-6f73-439c-b469-dca0d225713f"
      },
      "outputs": [
        {
          "name": "stdout",
          "output_type": "stream",
          "text": [
            "[('field', 6350), ('sans', 171), ('east', 10448), ('bar', 1566), ('herrera', 489), ('engine', 1568), ('glass', 1244), ('cuba', 757), ('renfrewshire', 74), ('collapse', 178), ('parry', 358), ('evaristo', 58), ('evolutionary', 146), ('1983', 3192), ('barnes', 1024), ('composer', 1362), ('duck', 595), ('carr', 771), ('demon', 493), ('heath', 1002)]\n"
          ]
        }
      ],
      "source": [
        "print(list(index2.df.items())[:20])"
      ]
    },
    {
      "cell_type": "code",
      "execution_count": null,
      "id": "a37382ac",
      "metadata": {
        "id": "a37382ac"
      },
      "outputs": [],
      "source": [
        ""
      ]
    },
    {
      "cell_type": "code",
      "execution_count": null,
      "id": "3c5b431e",
      "metadata": {
        "id": "3c5b431e",
        "outputId": "01612577-2ca8-4335-fa66-e9f5bc65b621"
      },
      "outputs": [
        {
          "name": "stdout",
          "output_type": "stream",
          "text": [
            "953.54 KiB  2022-01-10T18:45:03Z  gs://hodisan_ha_melech/title/title_index.pkl\r\n",
            "TOTAL: 1 objects, 976427 bytes (953.54 KiB)\r\n"
          ]
        }
      ],
      "source": [
        "!gsutil ls -lh $index_dst"
      ]
    },
    {
      "cell_type": "code",
      "execution_count": null,
      "id": "b6a64654",
      "metadata": {
        "id": "b6a64654",
        "outputId": "69e2cf68-96dc-4449-e192-59ba9cf847d2"
      },
      "outputs": [
        {
          "name": "stderr",
          "output_type": "stream",
          "text": [
            "                                                                                \r"
          ]
        },
        {
          "data": {
            "text/plain": [
              "6348910"
            ]
          },
          "execution_count": 21,
          "metadata": {},
          "output_type": "execute_result"
        }
      ],
      "source": [
        "doc_pairs = parquetFile.select(\"anchor_text\").rdd\n",
        "parquetFile.count()"
      ]
    },
    {
      "cell_type": "code",
      "execution_count": null,
      "id": "ad4061c5",
      "metadata": {
        "id": "ad4061c5"
      },
      "outputs": [],
      "source": [
        "doc_pairs = doc_pairs.flatMap(lambda x: x)\n",
        "doc_pairs = doc_pairs.flatMap(lambda x: x)\n"
      ]
    },
    {
      "cell_type": "code",
      "execution_count": null,
      "id": "f52ac890",
      "metadata": {
        "id": "f52ac890",
        "outputId": "6c243e1c-c8ee-4196-f212-3b9ae35d9f22"
      },
      "outputs": [
        {
          "name": "stderr",
          "output_type": "stream",
          "text": [
            "[Stage 14:=====================================================>(123 + 1) / 124]\r"
          ]
        },
        {
          "name": "stdout",
          "output_type": "stream",
          "text": [
            "924.664320230484\n"
          ]
        },
        {
          "name": "stderr",
          "output_type": "stream",
          "text": [
            "                                                                                \r"
          ]
        }
      ],
      "source": [
        "# time the index creation time\n",
        "t_start = time()\n",
        "# word counts map\n",
        "folder = \"anchor\"\n",
        "word_counts = doc_pairs.flatMap(lambda x: word_count(x[1], x[0]))\n",
        "postings = word_counts.groupByKey().mapValues(reduce_word_counts)\n",
        "# filtering postings and calculate df\n",
        "postings_filtered = postings.filter(lambda x: len(x[1])>50)\n",
        "w2df = calculate_df(postings_filtered)\n",
        "w2df_dict = w2df.collectAsMap()\n",
        "# partition posting lists and write out\n",
        "_ = partition_postings_and_write(postings_filtered, folder).collect()\n",
        "index_const_time = time() - t_start\n",
        "print(index_const_time)"
      ]
    },
    {
      "cell_type": "code",
      "execution_count": null,
      "id": "455e1794",
      "metadata": {
        "id": "455e1794"
      },
      "outputs": [],
      "source": [
        "# collect all posting lists locations into one super-set\n",
        "super_posting_locs = defaultdict(list)\n",
        "for blob in client.list_blobs(bucket_name, prefix='anchor'):\n",
        "  if not blob.name.endswith(\"pickle\"):\n",
        "    continue\n",
        "  with blob.open(\"rb\") as f:\n",
        "    posting_locs = pickle.load(f)\n",
        "    for k, v in posting_locs.items():\n",
        "      super_posting_locs[k].extend(v)"
      ]
    },
    {
      "cell_type": "code",
      "execution_count": null,
      "id": "79ab1922",
      "metadata": {
        "id": "79ab1922",
        "outputId": "723bf3cc-e66e-4720-a8d3-b286d8d9836f"
      },
      "outputs": [
        {
          "name": "stdout",
          "output_type": "stream",
          "text": [
            "Copying file://anchor_index.pkl [Content-Type=application/octet-stream]...\n",
            "/ [1 files][  9.5 MiB/  9.5 MiB]                                                \n",
            "Operation completed over 1 objects/9.5 MiB.                                      \n"
          ]
        }
      ],
      "source": [
        "# Create inverted index instance\n",
        "inverted = InvertedIndex()\n",
        "# Adding the posting locations dictionary to the inverted index\n",
        "inverted.posting_locs = super_posting_locs\n",
        "# Add the token - df dictionary to the inverted index\n",
        "inverted.df = w2df_dict\n",
        "# write the global stats out\n",
        "inverted.write_index('.', 'anchor_index')\n",
        "# upload to gs\n",
        "index_src = \"anchor_index.pkl\"\n",
        "index_dst = f'gs://{bucket_name}/{folder}/{index_src}'\n",
        "!gsutil cp $index_src $index_dst"
      ]
    },
    {
      "cell_type": "code",
      "execution_count": null,
      "id": "e5f95d24",
      "metadata": {
        "id": "e5f95d24",
        "outputId": "a17ed455-d248-4ad1-da51-4f7ad8e36906"
      },
      "outputs": [
        {
          "name": "stdout",
          "output_type": "stream",
          "text": [
            "  9.46 MiB  2022-01-10T19:01:12Z  gs://hodisan_ha_melech/anchor/anchor_index.pkl\r\n",
            "TOTAL: 1 objects, 9917522 bytes (9.46 MiB)\r\n"
          ]
        }
      ],
      "source": [
        "!gsutil ls -lh $index_dst"
      ]
    },
    {
      "cell_type": "code",
      "execution_count": null,
      "id": "56e2d0d4",
      "metadata": {
        "id": "56e2d0d4"
      },
      "outputs": [],
      "source": [
        "index2 = inverted.read_index('.' , 'anchor_index')"
      ]
    },
    {
      "cell_type": "code",
      "execution_count": null,
      "id": "327c6ff3",
      "metadata": {
        "id": "327c6ff3",
        "outputId": "c5d71d0e-8ba9-4c59-d865-0b31a3b04815"
      },
      "outputs": [
        {
          "name": "stdout",
          "output_type": "stream",
          "text": [
            "[('argentino', [('0_000.bin', 0)]), ('andronikos', [('0_000.bin', 55092)]), ('beaubassin', [('0_000.bin', 61602)]), ('chocolat', [('0_000.bin', 62064)]), ('quackery', [('0_000.bin', 64356)]), ('paedophilia', [('0_000.bin', 66012)]), ('weichselian', [('0_000.bin', 66654)]), ('kwamina', [('0_000.bin', 67368)]), ('ricci', [('0_000.bin', 67692)]), ('selemani', [('0_000.bin', 86292)]), ('montgomery', [('0_000.bin', 86724)]), ('lubycza', [('0_000.bin', 268566)]), ('pomerelia', [('0_000.bin', 269076)]), ('ornea', [('0_000.bin', 270906)]), ('szilard', [('0_000.bin', 271860)]), ('zubak', [('0_000.bin', 272634)]), ('piri', [('0_000.bin', 273300)]), ('woolly', [('0_000.bin', 276138)]), ('eun-bi', [('0_000.bin', 283812)]), ('vocalise', [('0_000.bin', 284208)])]\n"
          ]
        }
      ],
      "source": [
        "print(list(super_posting_locs.items())[:20])"
      ]
    },
    {
      "cell_type": "code",
      "execution_count": null,
      "id": "b9294375",
      "metadata": {
        "id": "b9294375"
      },
      "outputs": [],
      "source": [
        ""
      ]
    }
  ],
  "metadata": {
    "kernelspec": {
      "display_name": "PySpark",
      "language": "python",
      "name": "pyspark"
    },
    "language_info": {
      "codemirror_mode": {
        "name": "ipython",
        "version": 3
      },
      "file_extension": ".py",
      "mimetype": "text/x-python",
      "name": "python",
      "nbconvert_exporter": "python",
      "pygments_lexer": "ipython3",
      "version": "3.8.12"
    },
    "colab": {
      "name": "indexing_gcp.ipynb",
      "provenance": []
    }
  },
  "nbformat": 4,
  "nbformat_minor": 5
}